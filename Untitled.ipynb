{
 "cells": [
  {
   "cell_type": "code",
   "execution_count": 73,
   "id": "4286c883-88a9-40d0-858c-1e0b278ae89d",
   "metadata": {
    "tags": []
   },
   "outputs": [],
   "source": [
    "from pathlib import Path\n",
    "from collections import Counter\n",
    "import re\n",
    "vault_path = Path().home() / \"Cloud/@Home/Notes\""
   ]
  },
  {
   "cell_type": "code",
   "execution_count": 56,
   "id": "c96f763f-8a55-428d-bed3-0bbd90763ad2",
   "metadata": {
    "tags": []
   },
   "outputs": [],
   "source": [
    "markdown_files = list(vault_path.rglob('*.md'))\n",
    "markdown_counts = Counter([f.stem for f in markdown_files])"
   ]
  },
  {
   "cell_type": "code",
   "execution_count": 64,
   "id": "da1fe86e-68b2-40ef-bd3d-1a96bf5698cb",
   "metadata": {
    "tags": []
   },
   "outputs": [],
   "source": [
    "image_files = [f for f in\n",
    "    \n",
    "]"
   ]
  },
  {
   "cell_type": "code",
   "execution_count": 68,
   "id": "01432994-b35d-4f29-a5ff-bfb57fb99028",
   "metadata": {
    "tags": []
   },
   "outputs": [],
   "source": [
    "path = markdown_files[-5]"
   ]
  },
  {
   "cell_type": "code",
   "execution_count": 224,
   "id": "767c091e-e808-4144-92cc-e6150c5186be",
   "metadata": {
    "tags": []
   },
   "outputs": [],
   "source": [
    "markdown_files = []\n",
    "image_filenames = dict()\n",
    "name_counter = Counter()\n",
    "\n",
    "pattern = \"!\\[\\[(Pasted|Screenshot).*\\.png]]$\"\n",
    "rgx = re.compile(pattern)\n",
    "\n",
    "# Loop through markdown files, check if they contain pasted screenshots\n",
    "for path in vault_path.rglob('*.md'):\n",
    "    with open(path) as f:\n",
    "        markdown = f.read()\n",
    "        \n",
    "    matches = list(rgx.finditer(markdown))\n",
    "\n",
    "    if not matches:\n",
    "        continue\n",
    "    markdown_files.append((path, matches))\n",
    "\n",
    "        \n",
    "    filtered_matches = []\n",
    "    \n",
    "    for i, m in enumerate(matches):\n",
    "        current_name = markdown[m.span()[0]:m.span()[1]]\n",
    "        # IF image is linked multiple times, it will be skipped\n",
    "        if current_name in image_filenames:\n",
    "            print(f\"File {current_name} linked multiple times, skipping\")\n",
    "            del image_filenames[current_name]\n",
    "            continue\n",
    "        \n",
    "        namefmt = \"![[{} {}{}.png]]\".format\n",
    "        proposed_name = namefmt(path.stem, i+1, '')\n",
    "        # If name already exists, add a letter to end of filename\n",
    "        if name_counter[proposed_name] > 0:\n",
    "            c = 0\n",
    "            while name_counter[proposed_name] > 0:\n",
    "\n",
    "                proposed_name = namefmt(path.stem, i+1, chr(ord('A') + c))\n",
    "                c+= 1\n",
    "            name_counter.update([proposed_name])\n",
    "        else:   \n",
    "            name_counter.update([proposed_name])\n",
    "        \n",
    "        image_filenames[current_name] = proposed_name  \n",
    "        \n",
    "\n",
    "# Update md file content\n",
    "\n",
    "for (path, matches) in markdown_files:\n",
    "    with open(path) as f:\n",
    "        markdown = f.read()\n",
    "    for m in matches:\n",
    "        current_name = m.string[m.span()[0]:m.span()[1]]\n",
    "        if current_name not in image_filenames:\n",
    "            continue\n",
    "        markdown = markdown.replace(current_name, image_filenames[current_name])\n",
    "    \n",
    "    # path.unlink()\n",
    "    # with open(path, 'rw') as f:\n",
    "        # f.write(markdown)\n",
    "for path in vault_path.rglob('*.png'):\n",
    "    key = f\"![[{path.name}]]\"\n",
    "    if key in image_filenames:\n",
    "        new_filename = image_filenames[key][3:-2]\n",
    "        # path.rename(new_filename)"
   ]
  },
  {
   "cell_type": "code",
   "execution_count": null,
   "id": "0d144953-7274-4b6f-ae98-de7cf08ba4db",
   "metadata": {},
   "outputs": [],
   "source": []
  }
 ],
 "metadata": {
  "kernelspec": {
   "display_name": "Python 3 (ipykernel)",
   "language": "python",
   "name": "python3"
  },
  "language_info": {
   "codemirror_mode": {
    "name": "ipython",
    "version": 3
   },
   "file_extension": ".py",
   "mimetype": "text/x-python",
   "name": "python",
   "nbconvert_exporter": "python",
   "pygments_lexer": "ipython3",
   "version": "3.9.13"
  }
 },
 "nbformat": 4,
 "nbformat_minor": 5
}
